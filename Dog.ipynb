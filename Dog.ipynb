{
  "nbformat": 4,
  "nbformat_minor": 0,
  "metadata": {
    "colab": {
      "provenance": [],
      "authorship_tag": "ABX9TyMFHPW4IFbrmvEaF/z7jrVv",
      "include_colab_link": true
    },
    "kernelspec": {
      "name": "python3",
      "display_name": "Python 3"
    },
    "language_info": {
      "name": "python"
    }
  },
  "cells": [
    {
      "cell_type": "markdown",
      "metadata": {
        "id": "view-in-github",
        "colab_type": "text"
      },
      "source": [
        "<a href=\"https://colab.research.google.com/github/Amay24/pythoncoding/blob/main/Dog.ipynb\" target=\"_parent\"><img src=\"https://colab.research.google.com/assets/colab-badge.svg\" alt=\"Open In Colab\"/></a>"
      ]
    },
    {
      "cell_type": "code",
      "execution_count": null,
      "metadata": {
        "id": "s1fY-JGgCJ2Y"
      },
      "outputs": [],
      "source": [
        "\"\"\"\n",
        "OOP\n",
        "Class: a user defined \"blueprint\" or prototype from which objects will be created\n",
        "Why?  Allows a way for you to bundle data and functionality\n",
        "\n",
        "Rules for Classes:\n",
        "1. Classes are created with the keyword class\n",
        "2. Attributes are the variables that belong to class\n",
        "3. Attributes are always public and can be accessed using dot (.) operator:  i.e.:  MyClass.MyAttribute\n",
        "4. Attributes can be made NOT directly visible by adding a double underscore to their name.  MyClass.__HiddenAttribute\n",
        "*** variable in a Class is called an attribute\n",
        "*** function in a Class is called a Method\n",
        "\n",
        "class ClassName:\n",
        "  # statement 1\n",
        "  # ...\n",
        "  # statement n\n",
        "\n",
        "class DrLee:\n",
        "  # Class Level Variables\n",
        "  # Method 1\n",
        "  # Method 2\n",
        "  # etc.\n",
        "\"\"\"\n",
        "class Dog:\n",
        "  # Class Variable\n",
        "  animal = 'dog'\n",
        "\n",
        "  # Initialization method (sometimes called a Constructor)\n",
        "  def __init__(self,breed):\n",
        "    # Instance Variables\n",
        "    self.breed = breed\n",
        "  # Adds another method\n",
        "  def setColor(self,color):\n",
        "    self.color = color\n",
        "  def getColor(self):\n",
        "    return self.color"
      ]
    }
  ]
}